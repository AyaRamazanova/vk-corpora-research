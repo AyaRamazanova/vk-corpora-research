{
 "cells": [
  {
   "cell_type": "code",
   "execution_count": 1,
   "metadata": {},
   "outputs": [],
   "source": [
    "import json\n",
    "import pandas as pd"
   ]
  },
  {
   "cell_type": "code",
   "execution_count": 2,
   "metadata": {},
   "outputs": [],
   "source": [
    "with open(\"corpora.json\", \"r\") as read_file:\n",
    "    data = json.load(read_file)"
   ]
  },
  {
   "cell_type": "code",
   "execution_count": 4,
   "metadata": {},
   "outputs": [],
   "source": [
    "def words_per_post(posts):\n",
    "    words_num = 0.\n",
    "    for post in posts:\n",
    "        for paragraph in post:\n",
    "            for sentence in paragraph:\n",
    "                words_num += len(sentence)\n",
    "    mean_word_num = words_num / len(posts)\n",
    "    return mean_word_num\n",
    "\n",
    "def words_per_sentence(posts):\n",
    "    words_num = 0.\n",
    "    sent_num = 0.\n",
    "    for post in posts:\n",
    "        for paragraph in post:\n",
    "            sent_num += len(paragraph)\n",
    "            for sentence in paragraph:\n",
    "                words_num += len(sentence)\n",
    "    mean_words = words_num / sent_num\n",
    "    return mean_words\n",
    "\n",
    "def pos_per_post(posts, pos):\n",
    "    '''for counting number of occurances of a particular part of speach in posts'''\n",
    "    pos_num = 0.\n",
    "    for post in (posts):\n",
    "        for paragraph in post:\n",
    "            for sentence in paragraph:\n",
    "                for words in sentence:\n",
    "                    for name in words.keys():\n",
    "                        if words[name] == pos:\n",
    "                            pos_num += 1\n",
    "    return pos_num / len(posts)"
   ]
  },
  {
   "cell_type": "code",
   "execution_count": null,
   "metadata": {},
   "outputs": [],
   "source": []
  }
 ],
 "metadata": {
  "kernelspec": {
   "display_name": "Python 3",
   "language": "python",
   "name": "python3"
  },
  "language_info": {
   "codemirror_mode": {
    "name": "ipython",
    "version": 3
   },
   "file_extension": ".py",
   "mimetype": "text/x-python",
   "name": "python",
   "nbconvert_exporter": "python",
   "pygments_lexer": "ipython3",
   "version": "3.7.4"
  }
 },
 "nbformat": 4,
 "nbformat_minor": 2
}
