{
 "cells": [
  {
   "cell_type": "code",
   "execution_count": null,
   "metadata": {},
   "outputs": [],
   "source": [
    "from mining import load_posts\n",
    "import json\n",
    "import sys\n",
    "import vk_api\n",
    "from nltk import sent_tokenize, wordpunct_tokenize, download\n",
    "from pymorphy2 import MorphAnalyzer\n",
    "from nltk.stem import WordNetLemmatizer \n",
    "download('punkt')\n",
    "download('wordnet')\n",
    "download('averaged_perceptron_tagger')"
   ]
  },
  {
   "cell_type": "code",
   "execution_count": null,
   "metadata": {},
   "outputs": [],
   "source": [
    "group_posts = load_posts('login', 'password')"
   ]
  },
  {
   "cell_type": "code",
   "execution_count": null,
   "metadata": {},
   "outputs": [],
   "source": [
    "with open('group_posts.json', 'w') as f:\n",
    "    json.dump(group_posts, f)"
   ]
  },
  {
   "cell_type": "code",
   "execution_count": null,
   "metadata": {},
   "outputs": [],
   "source": [
    "def to_corpora(corpora):\n",
    "    m = MorphAnalyzer()\n",
    "    for i in range(len(corpora)):\n",
    "        #posts\n",
    "        corpora[i] = corpora[i].split('\\n\\n')\n",
    "        for j in range(len(corpora[i])): \n",
    "            #paragraphs\n",
    "            corpora[i][j] = sent_tokenize(corpora[i][j])\n",
    "            for k in range(len(corpora[i][j])):\n",
    "                #sentences\n",
    "                corpora[i][j][k] = wordpunct_tokenize(corpora[i][j][k])\n",
    "                for l in range(len(corpora[i][j][k])):\n",
    "                    #words\n",
    "                    p = m.parse(corpora[i][j][k][l])[0]\n",
    "                    corpora[i][j][k][l] = {p.normal_form : p.tag.POS}\n",
    "    return corpora"
   ]
  },
  {
   "cell_type": "code",
   "execution_count": null,
   "metadata": {},
   "outputs": [],
   "source": [
    "group_names = group_posts.keys()\n",
    "for i, name in enumerate(group_names):\n",
    "    print(f'proccessing wall of \"{name}\", group {i} of {len(group_names)}', file=sys.stderr)\n",
    "    group_posts[name]['texts'] = to_corpora(group_posts[name]['texts'])\n",
    "    \n",
    "with open('corpora.json', 'w') as f:\n",
    "    json.dump(group_posts, f)"
   ]
  }
 ],
 "metadata": {
  "kernelspec": {
   "display_name": "Python 3",
   "language": "python",
   "name": "python3"
  },
  "language_info": {
   "codemirror_mode": {
    "name": "ipython",
    "version": 3
   },
   "file_extension": ".py",
   "mimetype": "text/x-python",
   "name": "python",
   "nbconvert_exporter": "python",
   "pygments_lexer": "ipython3",
   "version": "3.7.4"
  }
 },
 "nbformat": 4,
 "nbformat_minor": 2
}
