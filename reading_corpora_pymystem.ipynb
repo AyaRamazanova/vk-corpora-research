{
 "cells": [
  {
   "cell_type": "code",
   "execution_count": 1,
   "metadata": {},
   "outputs": [
    {
     "name": "stderr",
     "output_type": "stream",
     "text": [
      "[nltk_data] Downloading package punkt to /Users/ayazhan/nltk_data...\n",
      "[nltk_data]   Package punkt is already up-to-date!\n",
      "[nltk_data] Downloading package wordnet to /Users/ayazhan/nltk_data...\n",
      "[nltk_data]   Package wordnet is already up-to-date!\n",
      "[nltk_data] Downloading package averaged_perceptron_tagger to\n",
      "[nltk_data]     /Users/ayazhan/nltk_data...\n",
      "[nltk_data]   Package averaged_perceptron_tagger is already up-to-\n",
      "[nltk_data]       date!\n"
     ]
    },
    {
     "data": {
      "text/plain": [
       "True"
      ]
     },
     "execution_count": 1,
     "metadata": {},
     "output_type": "execute_result"
    }
   ],
   "source": [
    "from mining import load_posts\n",
    "import json\n",
    "import sys\n",
    "import vk_api\n",
    "from nltk import sent_tokenize, wordpunct_tokenize, download\n",
    "from pymorphy2 import MorphAnalyzer\n",
    "from nltk.stem import WordNetLemmatizer \n",
    "from pymystem3 import Mystem\n",
    "download('punkt')\n",
    "download('wordnet')\n",
    "download('averaged_perceptron_tagger')"
   ]
  },
  {
   "cell_type": "code",
   "execution_count": 2,
   "metadata": {},
   "outputs": [
    {
     "name": "stderr",
     "output_type": "stream",
     "text": [
      "getting wall of \"overhear\", group 0 of 10\n"
     ]
    }
   ],
   "source": [
    "group_posts = load_posts('login', 'password')"
   ]
  },
  {
   "cell_type": "code",
   "execution_count": 4,
   "metadata": {},
   "outputs": [],
   "source": [
    "def to_corpora(corpora):\n",
    "    m = Mystem()\n",
    "    for i in range(len(corpora)):\n",
    "        #posts\n",
    "        corpora[i] = corpora[i].split('\\n\\n')\n",
    "        for j in range(len(corpora[i])): \n",
    "            #paragraphs\n",
    "            corpora[i][j] = sent_tokenize(corpora[i][j])\n",
    "            for k in range(len(corpora[i][j])):\n",
    "                #sentences\n",
    "                corpora[i][j][k] = json.dumps(m.analyze(text), ensure_ascii=False, encoding='utf8')\n",
    "    return corpora"
   ]
  },
  {
   "cell_type": "code",
   "execution_count": 5,
   "metadata": {},
   "outputs": [
    {
     "name": "stderr",
     "output_type": "stream",
     "text": [
      "proccessing wall of \"overhear\", group 0 of 10\n",
      "proccessing wall of \"podslushanoklubromantiki\", group 1 of 10\n",
      "proccessing wall of \"secret_32\", group 2 of 10\n",
      "proccessing wall of \"podslushanoperm\", group 3 of 10\n",
      "proccessing wall of \"overstory163\", group 4 of 10\n",
      "proccessing wall of \"yarchat\", group 5 of 10\n",
      "proccessing wall of \"podslushanokovrov1\", group 6 of 10\n",
      "proccessing wall of \"in_yalta\", group 7 of 10\n",
      "proccessing wall of \"sluhvl\", group 8 of 10\n",
      "proccessing wall of \"buzpb\", group 9 of 10\n"
     ]
    }
   ],
   "source": [
    "group_names = group_posts.keys()\n",
    "for i, name in enumerate(group_names):\n",
    "    print(f'proccessing wall of \"{name}\", group {i} of {len(group_names)}', file=sys.stderr)\n",
    "    group_posts[name] = to_corpora(group_posts[name])\n",
    "    \n",
    "with open('corpora_pymystem.json', 'w') as f:\n",
    "    json.dump(group_posts, f)"
   ]
  }
 ],
 "metadata": {
  "kernelspec": {
   "display_name": "Python 3",
   "language": "python",
   "name": "python3"
  },
  "language_info": {
   "codemirror_mode": {
    "name": "ipython",
    "version": 3
   },
   "file_extension": ".py",
   "mimetype": "text/x-python",
   "name": "python",
   "nbconvert_exporter": "python",
   "pygments_lexer": "ipython3",
   "version": "3.7.4"
  }
 },
 "nbformat": 4,
 "nbformat_minor": 2
}
